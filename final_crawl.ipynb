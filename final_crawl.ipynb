{
  "nbformat": 4,
  "nbformat_minor": 0,
  "metadata": {
    "colab": {
      "name": "final_crawl",
      "provenance": [],
      "collapsed_sections": [],
      "authorship_tag": "ABX9TyMJEmfyv+5vZ0gJ+CDpaQMZ",
      "include_colab_link": true
    },
    "kernelspec": {
      "name": "python3",
      "display_name": "Python 3"
    }
  },
  "cells": [
    {
      "cell_type": "markdown",
      "metadata": {
        "id": "view-in-github",
        "colab_type": "text"
      },
      "source": [
        "<a href=\"https://colab.research.google.com/github/kimmjen/Colab/blob/master/final_crawl.ipynb\" target=\"_parent\"><img src=\"https://colab.research.google.com/assets/colab-badge.svg\" alt=\"Open In Colab\"/></a>"
      ]
    },
    {
      "cell_type": "code",
      "metadata": {
        "id": "9CoCrBkiMHlB",
        "colab_type": "code",
        "colab": {}
      },
      "source": [
        "from bs4 import BeautifulSoup\n",
        "import requests\n",
        "import re\n",
        "import pandas as pd\n",
        "import os\n",
        "from selenium import webdriver\n",
        "from selenium.webdriver.common.by import By\n",
        "from selenium.webdriver.common.keys import Keys\n",
        "from selenium.webdriver.support.ui import WebDriverWait\n",
        "from selenium.webdriver.support import expected_conditions as EC\n",
        "from selenium.common.exceptions import TimeoutException\n",
        "from urllib.parse import quote_plus\n"
      ],
      "execution_count": 0,
      "outputs": []
    },
    {
      "cell_type": "code",
      "metadata": {
        "id": "6de_CqrcMLaY",
        "colab_type": "code",
        "colab": {}
      },
      "source": [
        "url = 'https://finance.naver.com/item/news_news.nhn?code={company}'.format(company='024110')\n",
        "driver = webdriver.Chrome('./chromedriver')\n",
        "driver.get(url)\n",
        "mydata = driver.find_element_by_class_name('type5')\n",
        "mydata = driver.page_source\n",
        "\n",
        "new_source = BeautifulSoup(mydata, 'lxml')\n",
        "navi = new_source.find(\"table\", class_=\"Nnavi\")\n",
        "navi_last = navi.find(\"td\", class_=\"pgRR\")\n",
        "pag = navi_last.a.get('href').rsplit('&')[1]\n",
        "pg_last = pag.split('=')[1]\n",
        "pg_last = int(pg_last)\n",
        "print(\"총 \" + str(pg_last) + \" 개 확인\")\n",
        "\n",
        "date_result = []\n",
        "source_result = []\n",
        "title_result = []\n",
        "content_result=[]\n",
        "link_result = []\n",
        "\n",
        "\n",
        "for i in range(pg_last+1):\n",
        "    url = 'https://finance.naver.com/item/news_news.nhn?code={company}&page=%s'.format(company='024110')%i \n",
        "    source_code = requests.get(url).text\n",
        "    html = BeautifulSoup(source_code, \"lxml\")\n",
        "   \n",
        "    titles = html.select('.title')\n",
        "#     title_result=[]\n",
        "    for title in titles:\n",
        "        title = title.get_text()\n",
        "        title = re.sub('\\n','',title)\n",
        "        title_result.append(title)\n",
        "    \n",
        "    links = html.select('.title')\n",
        "#     link_result = []\n",
        "    news = []\n",
        "    for link in links:\n",
        "        add = 'https://finance.naver.com' + link.find('a')['href']\n",
        "        link_result.append(add)\n",
        "        news.append(add)\n",
        "        \n",
        "    # 내용\n",
        "    for i in news:\n",
        "        res = requests.get(i)\n",
        "        content = res.text\n",
        "        soup = BeautifulSoup(content, 'html.parser')\n",
        "        body = soup.find(id='news_read')\n",
        "        contents = body.text.strip()\n",
        "        content_result.append(contents)\n",
        "        \n",
        "        \n",
        "    dates = html.select('.date')\n",
        "    date = [date.get_text() for date in dates]\n",
        "    date_result.append(date)\n",
        "    \n",
        "    # 뉴스 매체\n",
        "    sources = html.select('.info')\n",
        "    source = [source.get_text() for source in sources]\n",
        "    source_result.append(source)\n",
        "    \n",
        "    # 변수들을 합쳐서 해당 디렉토리에 csv 파일로 저장하기\n",
        "#     results = {'날짜' : date_result, '언론사': source_result, '기사제목': title_result, '링크': link_result}\n",
        "#     list_news.append(results)\n",
        "    \n"
      ],
      "execution_count": 0,
      "outputs": []
    },
    {
      "cell_type": "code",
      "metadata": {
        "id": "aK8Q7R1-MMjI",
        "colab_type": "code",
        "colab": {}
      },
      "source": [
        "date_result"
      ],
      "execution_count": 0,
      "outputs": []
    },
    {
      "cell_type": "code",
      "metadata": {
        "id": "GzIhiu0gMMln",
        "colab_type": "code",
        "colab": {}
      },
      "source": [
        "source_result"
      ],
      "execution_count": 0,
      "outputs": []
    },
    {
      "cell_type": "code",
      "metadata": {
        "id": "dP-9ujhYMMnt",
        "colab_type": "code",
        "colab": {}
      },
      "source": [
        "title_result"
      ],
      "execution_count": 0,
      "outputs": []
    },
    {
      "cell_type": "markdown",
      "metadata": {
        "id": "XCziq9o-MRjF",
        "colab_type": "text"
      },
      "source": [
        ""
      ]
    },
    {
      "cell_type": "code",
      "metadata": {
        "id": "ga_S4JsxMMur",
        "colab_type": "code",
        "colab": {}
      },
      "source": [
        "content_result"
      ],
      "execution_count": 0,
      "outputs": []
    },
    {
      "cell_type": "code",
      "metadata": {
        "id": "0bnY6MUiMMzR",
        "colab_type": "code",
        "colab": {}
      },
      "source": [
        "link_result"
      ],
      "execution_count": 0,
      "outputs": []
    },
    {
      "cell_type": "code",
      "metadata": {
        "id": "-mRR4_NoMM10",
        "colab_type": "code",
        "colab": {}
      },
      "source": [
        ""
      ],
      "execution_count": 0,
      "outputs": []
    },
    {
      "cell_type": "code",
      "metadata": {
        "id": "3CKckisGMMsl",
        "colab_type": "code",
        "colab": {}
      },
      "source": [
        ""
      ],
      "execution_count": 0,
      "outputs": []
    },
    {
      "cell_type": "code",
      "metadata": {
        "id": "eQsBnaYLMLkO",
        "colab_type": "code",
        "colab": {}
      },
      "source": [
        ""
      ],
      "execution_count": 0,
      "outputs": []
    }
  ]
}