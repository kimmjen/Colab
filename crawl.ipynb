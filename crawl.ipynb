{
  "nbformat": 4,
  "nbformat_minor": 0,
  "metadata": {
    "colab": {
      "name": "crawl.ipynb",
      "provenance": [],
      "collapsed_sections": [],
      "authorship_tag": "ABX9TyP53+IwEJDEIcBbHaiWNPRf",
      "include_colab_link": true
    },
    "kernelspec": {
      "name": "python3",
      "display_name": "Python 3"
    }
  },
  "cells": [
    {
      "cell_type": "markdown",
      "metadata": {
        "id": "view-in-github",
        "colab_type": "text"
      },
      "source": [
        "<a href=\"https://colab.research.google.com/github/kimmjen/Colab/blob/master/crawl.ipynb\" target=\"_parent\"><img src=\"https://colab.research.google.com/assets/colab-badge.svg\" alt=\"Open In Colab\"/></a>"
      ]
    },
    {
      "cell_type": "code",
      "metadata": {
        "id": "dP8Zz2capWiU",
        "colab_type": "code",
        "outputId": "ada8bfd1-99fe-4571-9f58-394bdbd3ce89",
        "colab": {
          "base_uri": "https://localhost:8080/",
          "height": 127
        }
      },
      "source": [
        "from google.colab import drive\n",
        "drive.mount('/content/drive')"
      ],
      "execution_count": 0,
      "outputs": [
        {
          "output_type": "stream",
          "text": [
            "Go to this URL in a browser: https://accounts.google.com/o/oauth2/auth?client_id=947318989803-6bn6qk8qdgf4n4g3pfee6491hc0brc4i.apps.googleusercontent.com&redirect_uri=urn%3aietf%3awg%3aoauth%3a2.0%3aoob&response_type=code&scope=email%20https%3a%2f%2fwww.googleapis.com%2fauth%2fdocs.test%20https%3a%2f%2fwww.googleapis.com%2fauth%2fdrive%20https%3a%2f%2fwww.googleapis.com%2fauth%2fdrive.photos.readonly%20https%3a%2f%2fwww.googleapis.com%2fauth%2fpeopleapi.readonly\n",
            "\n",
            "Enter your authorization code:\n",
            "··········\n",
            "Mounted at /content/drive\n"
          ],
          "name": "stdout"
        }
      ]
    },
    {
      "cell_type": "code",
      "metadata": {
        "id": "75olL8uKpaOG",
        "colab_type": "code",
        "outputId": "ebccfb95-a2fb-46ad-ebe4-7adf963e81d1",
        "colab": {
          "base_uri": "https://localhost:8080/",
          "height": 35
        }
      },
      "source": [
        "cd /content/drive/My Drive/Colab Notebooks"
      ],
      "execution_count": 0,
      "outputs": [
        {
          "output_type": "stream",
          "text": [
            "/content/drive/My Drive/Colab Notebooks\n"
          ],
          "name": "stdout"
        }
      ]
    },
    {
      "cell_type": "code",
      "metadata": {
        "id": "63MXxdYApmXd",
        "colab_type": "code",
        "colab": {}
      },
      "source": [
        "from bs4 import BeautifulSoup\n",
        "import requests\n",
        "import re\n",
        "import pandas as pd\n",
        "import os"
      ],
      "execution_count": 0,
      "outputs": []
    },
    {
      "cell_type": "code",
      "metadata": {
        "id": "YYqiliQDpoCL",
        "colab_type": "code",
        "colab": {}
      },
      "source": [
        "url = 'https://finance.naver.com/item/news_news.nhn?code={company}'.format(company='024110') \n",
        "source_code = requests.get(url).text\n",
        "html = BeautifulSoup(source_code, \"lxml\")"
      ],
      "execution_count": 0,
      "outputs": []
    },
    {
      "cell_type": "code",
      "metadata": {
        "id": "W7DrqG-L3o7d",
        "colab_type": "code",
        "outputId": "8ab6f86f-f659-411e-8036-95d4830abf9f",
        "colab": {
          "base_uri": "https://localhost:8080/",
          "height": 35
        }
      },
      "source": [
        "url\n"
      ],
      "execution_count": 0,
      "outputs": [
        {
          "output_type": "execute_result",
          "data": {
            "text/plain": [
              "'https://finance.naver.com/item/news_news.nhn?code=024110'"
            ]
          },
          "metadata": {
            "tags": []
          },
          "execution_count": 7
        }
      ]
    },
    {
      "cell_type": "code",
      "metadata": {
        "id": "vOcM4ZM94A7l",
        "colab_type": "code",
        "colab": {}
      },
      "source": [
        "html\n"
      ],
      "execution_count": 0,
      "outputs": []
    },
    {
      "cell_type": "code",
      "metadata": {
        "id": "HDHlnF1eBEzd",
        "colab_type": "code",
        "colab": {
          "base_uri": "https://localhost:8080/",
          "height": 244
        },
        "outputId": "4c1550c1-6a47-4d2d-bc90-0e9d0e80d6e6"
      },
      "source": [
        "maximum = 0\n",
        "page = 1\n",
        "\n",
        "while 1:\n",
        "  page_list = html.findAll(\"a\", {\"class\":\"tit\"})\n",
        "  if not page_list:\n",
        "    maximum = page - 1\n",
        "    break\n",
        "  page = page + 1\n",
        "print(\"총 \" + str(maximum) + \"개의 페이지가 확인되었습니다.\")"
      ],
      "execution_count": 1,
      "outputs": [
        {
          "output_type": "error",
          "ename": "NameError",
          "evalue": "ignored",
          "traceback": [
            "\u001b[0;31m---------------------------------------------------------------------------\u001b[0m",
            "\u001b[0;31mNameError\u001b[0m                                 Traceback (most recent call last)",
            "\u001b[0;32m<ipython-input-1-c519618909a5>\u001b[0m in \u001b[0;36m<module>\u001b[0;34m()\u001b[0m\n\u001b[1;32m      3\u001b[0m \u001b[0;34m\u001b[0m\u001b[0m\n\u001b[1;32m      4\u001b[0m \u001b[0;32mwhile\u001b[0m \u001b[0;36m1\u001b[0m\u001b[0;34m:\u001b[0m\u001b[0;34m\u001b[0m\u001b[0;34m\u001b[0m\u001b[0m\n\u001b[0;32m----> 5\u001b[0;31m   \u001b[0mpage_list\u001b[0m \u001b[0;34m=\u001b[0m \u001b[0mhtml\u001b[0m\u001b[0;34m.\u001b[0m\u001b[0mfindAll\u001b[0m\u001b[0;34m(\u001b[0m\u001b[0;34m\"a\"\u001b[0m\u001b[0;34m,\u001b[0m \u001b[0;34m{\u001b[0m\u001b[0;34m\"class\"\u001b[0m\u001b[0;34m:\u001b[0m\u001b[0;34m\"tit\"\u001b[0m\u001b[0;34m}\u001b[0m\u001b[0;34m)\u001b[0m\u001b[0;34m\u001b[0m\u001b[0;34m\u001b[0m\u001b[0m\n\u001b[0m\u001b[1;32m      6\u001b[0m   \u001b[0;32mif\u001b[0m \u001b[0;32mnot\u001b[0m \u001b[0mpage_list\u001b[0m\u001b[0;34m:\u001b[0m\u001b[0;34m\u001b[0m\u001b[0;34m\u001b[0m\u001b[0m\n\u001b[1;32m      7\u001b[0m     \u001b[0mmaximum\u001b[0m \u001b[0;34m=\u001b[0m \u001b[0mpage\u001b[0m \u001b[0;34m-\u001b[0m \u001b[0;36m1\u001b[0m\u001b[0;34m\u001b[0m\u001b[0;34m\u001b[0m\u001b[0m\n",
            "\u001b[0;31mNameError\u001b[0m: name 'html' is not defined"
          ]
        }
      ]
    },
    {
      "cell_type": "code",
      "metadata": {
        "id": "c0zAMp0OBglT",
        "colab_type": "code",
        "colab": {}
      },
      "source": [
        "news_whole = \" \"\n",
        "for page_number in range(1, maximum+1):\n",
        "  URLs = url + '&page=' + str(page)\n",
        "  response = requests.get(URLs)\n",
        "\n",
        "  news_whole = news_whole + response.text\n",
        "soup = BeautifulSoup(news_whole, 'html.parser')\n",
        "\n",
        "find_title = soup.select('a')\n",
        "for x in find_title:\n",
        "    print(x.text.strip())\n"
      ],
      "execution_count": 0,
      "outputs": []
    },
    {
      "cell_type": "code",
      "metadata": {
        "id": "zcvobplq4K_A",
        "colab_type": "code",
        "outputId": "75f606c0-d29d-419b-d723-89044f2a3147",
        "colab": {
          "base_uri": "https://localhost:8080/",
          "height": 136
        }
      },
      "source": [
        "res = html.find_all('table', class='type5')\n",
        "for x in res:\n",
        "    print(x.contents)"
      ],
      "execution_count": 0,
      "outputs": [
        {
          "output_type": "error",
          "ename": "SyntaxError",
          "evalue": "ignored",
          "traceback": [
            "\u001b[0;36m  File \u001b[0;32m\"<ipython-input-27-c814d6df87d7>\"\u001b[0;36m, line \u001b[0;32m1\u001b[0m\n\u001b[0;31m    res = html.find_all('table', class='type5')\u001b[0m\n\u001b[0m                                     ^\u001b[0m\n\u001b[0;31mSyntaxError\u001b[0m\u001b[0;31m:\u001b[0m invalid syntax\n"
          ]
        }
      ]
    },
    {
      "cell_type": "code",
      "metadata": {
        "id": "01rNAIDz4eAQ",
        "colab_type": "code",
        "outputId": "e6eb8954-7b97-4a95-98d5-ea99b4ba2c49",
        "colab": {
          "base_uri": "https://localhost:8080/",
          "height": 323
        }
      },
      "source": [
        "res = html.find_all('a',class_='tit')\n",
        "for x in res:\n",
        "    print(x.text.strip())"
      ],
      "execution_count": 0,
      "outputs": [
        {
          "output_type": "stream",
          "text": [
            "'기업은행' 5% 이상 상승, 단기·중기 이평선 정배열로 상승세\n",
            "기업은행, 조직개편…금융소비자보호 부문 강화\n",
            "기업은행, 금융소비자보호 강화 총괄조직 분리 독립\n",
            "기업은행 이사회 내달로 연기… 디스커버리펀드 보상 논의 미뤄져\n",
            "기업은행, 절차 확 줄여…소상공인 신속 저금리 대출\n",
            "기업은행, 소비자보호그룹 독립…고객 보호 강화\n",
            "기업은행, 금융소비자보호 강화 차원 조직개편\n",
            "기업은행, 금융소비자보호 권익 강화 위한 조직 개편 단행\n",
            "IBK기업은행, 금융소비자보호 강화 위해 총괄 조직 분리 독립\n",
            "IBK기업은행, 14년 연속 '한국의 우수 콜센터' 선정\n",
            "기업은행, 14년 연속 `한국의 우수 콜센터` 선정\n",
            "기업은행, 다음달까지 'IBK알파세무신고' 신규가입 이벤트\n",
            "기업은행, `IBK알파세무신고` 신규가입 이벤트 실시\n",
            "기업은행, IBK알파세무신고 신규가입 이벤트 실시\n",
            "기업銀, ‘IBK알파세무신고’ 신규가입 이벤트\n",
            "기업은행 \"IBK알파세무신고 서비스 가입하세요\"\n",
            "기업은행, 미국서 1000억원대 벌금…자금세탁방지 규정 저촉\n"
          ],
          "name": "stdout"
        }
      ]
    },
    {
      "cell_type": "code",
      "metadata": {
        "id": "DFMTOO7t4eEy",
        "colab_type": "code",
        "colab": {}
      },
      "source": [
        ""
      ],
      "execution_count": 0,
      "outputs": []
    },
    {
      "cell_type": "code",
      "metadata": {
        "id": "uFR7FirI4eIU",
        "colab_type": "code",
        "colab": {}
      },
      "source": [
        ""
      ],
      "execution_count": 0,
      "outputs": []
    },
    {
      "cell_type": "code",
      "metadata": {
        "id": "2ZspZZNN4eLS",
        "colab_type": "code",
        "colab": {}
      },
      "source": [
        ""
      ],
      "execution_count": 0,
      "outputs": []
    },
    {
      "cell_type": "code",
      "metadata": {
        "id": "xKcjWqIj4eN5",
        "colab_type": "code",
        "colab": {}
      },
      "source": [
        ""
      ],
      "execution_count": 0,
      "outputs": []
    },
    {
      "cell_type": "code",
      "metadata": {
        "id": "199jzlYT4eQq",
        "colab_type": "code",
        "colab": {}
      },
      "source": [
        ""
      ],
      "execution_count": 0,
      "outputs": []
    },
    {
      "cell_type": "code",
      "metadata": {
        "id": "aR8yGld5rR_E",
        "colab_type": "code",
        "colab": {}
      },
      "source": [
        "page = 1\n",
        "while page <= int(maxpage):\n",
        "\n",
        "  # 뉴스 제목 \n",
        "  titles = html.select('.title')\n",
        "  title_result=[]\n",
        "  for title in titles: \n",
        "    title = title.get_text() \n",
        "    title = re.sub('\\n','',title)\n",
        "    title_result.append(title)\n",
        "\n",
        "  # sample.append(title_result)\n",
        "\n",
        "\n",
        "  # 뉴스 링크\n",
        "  links = html.select('.title') \n",
        "\n",
        "  link_result =[]\n",
        "  for link in links: \n",
        "    add = 'https://finance.naver.com' + link.find('a')['href']\n",
        "    link_result.append(add)\n",
        "\n",
        "  # sample.append(link_result)    \n",
        "\n",
        "\n",
        "  # 뉴스 날짜 \n",
        "  dates = html.select('.date') \n",
        "  date_result = [date.get_text() for date in dates] \n",
        "\n",
        "  # sample.append(date_result)\n",
        "  # 뉴스 매체     \n",
        "  sources = html.select('.info')\n",
        "  source_result = [source.get_text() for source in sources] \n",
        "\n",
        "  # sample.append(source_result)\n",
        "  # 변수들 합쳐서 해당 디렉토리에 csv파일로 저장하기 \n",
        "\n",
        "  result= {\"날짜\" : date_result, \"언론사\" : source_result, \"기사제목\" : title_result, \"링크\" : link_result} \n",
        "  sample.append(result)"
      ],
      "execution_count": 0,
      "outputs": []
    },
    {
      "cell_type": "code",
      "metadata": {
        "id": "azzR4cObrRMQ",
        "colab_type": "code",
        "colab": {}
      },
      "source": [
        ""
      ],
      "execution_count": 0,
      "outputs": []
    },
    {
      "cell_type": "code",
      "metadata": {
        "id": "75nGn4fdrQuK",
        "colab_type": "code",
        "colab": {}
      },
      "source": [
        ""
      ],
      "execution_count": 0,
      "outputs": []
    },
    {
      "cell_type": "code",
      "metadata": {
        "id": "L5zEAt2ZqBbz",
        "colab_type": "code",
        "colab": {}
      },
      "source": [
        ""
      ],
      "execution_count": 0,
      "outputs": []
    }
  ]
}